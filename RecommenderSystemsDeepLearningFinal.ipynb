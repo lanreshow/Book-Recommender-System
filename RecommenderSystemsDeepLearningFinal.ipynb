{
  "cells": [
    {
      "cell_type": "markdown",
      "id": "ab6236ed",
      "metadata": {
        "id": "ab6236ed"
      },
      "source": [
        "# Neural Collaborative Filtering:"
      ]
    },
    {
      "cell_type": "markdown",
      "source": [
        "This Neural Collaborative Filtering (NCF) code creates a deep learning-based recommender system for suggesting books that are likely to interest a user based on their past preferences and the preferences of similar users. T\n",
        "\n",
        "Here's a brief overview of what the code does:\n",
        "\n",
        "- It imports necessary libraries and loads the dataset, merging and filtering it to retain only the required columns.\n",
        "- It encodes the user IDs and book IDs to ensure they are numerical and continuous.\n",
        "-It splits the dataset into training and testing sets.\n",
        "-It defines the NCF model using TensorFlow, with separate user and book embeddings that are combined in a multi-layer dense network.\n",
        "-It trains the model on the training dataset and validates it on the testing dataset.\n",
        "-It defines a recommendation function that takes a book title as input and returns a list of books that are likely to be rated highly by users who also liked the input book.\n",
        "-It evaluates the performance of the model by predicting book ratings for the test dataset and comparing them with the actual ratings, calculating the mean squared error.\n",
        "-It demonstrates how to use the recommendation function with a sample book title.\n"
      ],
      "metadata": {
        "id": "tYPOn0JUZWtj"
      },
      "id": "tYPOn0JUZWtj"
    },
    {
      "cell_type": "markdown",
      "source": [
        "- *Due to limitations in computatiional ower, do run this code using Google colab. Also, change the runtime type to GPU to aid the running time of the epochs**"
      ],
      "metadata": {
        "id": "-RSwpZ-3pYsh"
      },
      "id": "-RSwpZ-3pYsh"
    },
    {
      "cell_type": "code",
      "execution_count": 1,
      "id": "6f94f817",
      "metadata": {
        "id": "6f94f817"
      },
      "outputs": [],
      "source": [
        "import numpy as np\n",
        "import pandas as pd\n",
        "import tensorflow as tf\n",
        "from sklearn.model_selection import train_test_split\n",
        "from sklearn.preprocessing import LabelEncoder\n",
        "from tensorflow.keras.layers import Embedding, Input, Dot, Flatten, Concatenate, Dense\n",
        "from tensorflow.keras.models import Model\n",
        "import tensorflow_hub as hub\n",
        "from sklearn.metrics.pairwise import cosine_similarity\n",
        "from gensim.models import Word2Vec\n",
        "from sklearn.metrics import mean_squared_error, mean_absolute_error\n"
      ]
    },
    {
      "cell_type": "code",
      "source": [
        "from google.colab import drive\n",
        "drive.mount('/content/drive')"
      ],
      "metadata": {
        "colab": {
          "base_uri": "https://localhost:8080/"
        },
        "id": "u7-fkr9tTRdK",
        "outputId": "78a1626b-1403-4303-da1d-79f1b940aa25"
      },
      "id": "u7-fkr9tTRdK",
      "execution_count": 2,
      "outputs": [
        {
          "output_type": "stream",
          "name": "stdout",
          "text": [
            "Mounted at /content/drive\n"
          ]
        }
      ]
    },
    {
      "cell_type": "code",
      "execution_count": 3,
      "id": "cd4bfa87",
      "metadata": {
        "colab": {
          "base_uri": "https://localhost:8080/"
        },
        "id": "cd4bfa87",
        "outputId": "9b5f78fd-0cee-483c-b77e-fa4e582ef360"
      },
      "outputs": [
        {
          "output_type": "execute_result",
          "data": {
            "text/plain": [
              "(1031175, 4)"
            ]
          },
          "metadata": {},
          "execution_count": 3
        }
      ],
      "source": [
        "# Load and preprocess the dataset\n",
        "ratings = pd.read_csv('/content/drive/MyDrive/Recommender System/BX-Book-Ratings.csv', delimiter=';', encoding='latin-1')\n",
        "books = pd.read_csv('/content/drive/MyDrive/Recommender System/BX_Books.csv', delimiter=';', encoding='latin-1')\n",
        "users = pd.read_csv('/content/drive/MyDrive/Recommender System/BX-Users.csv', delimiter=';', encoding='latin-1')\n",
        "\n",
        "# Merge the datasets\n",
        "merged = ratings.merge(users, on='User-ID', how='left').merge(books, on='ISBN', how='left')\n",
        "\n",
        "# Filter out unused data\n",
        "filtered = merged[['User-ID', 'ISBN', 'Book-Rating', 'Book-Title']].dropna()\n",
        "filtered.shape"
      ]
    },
    {
      "cell_type": "code",
      "source": [
        "filtered.head()"
      ],
      "metadata": {
        "id": "wspuXgo4GfjC",
        "colab": {
          "base_uri": "https://localhost:8080/",
          "height": 206
        },
        "outputId": "a8b3889f-b843-49f4-d5ba-929b2371f3b8"
      },
      "id": "wspuXgo4GfjC",
      "execution_count": 4,
      "outputs": [
        {
          "output_type": "execute_result",
          "data": {
            "text/plain": [
              "   User-ID        ISBN  Book-Rating  \\\n",
              "0   276725  034545104X            0   \n",
              "1   276726  0155061224            5   \n",
              "2   276727  0446520802            0   \n",
              "3   276729  052165615X            3   \n",
              "4   276729  0521795028            6   \n",
              "\n",
              "                                          Book-Title  \n",
              "0                               Flesh Tones: A Novel  \n",
              "1                                   Rites of Passage  \n",
              "2                                       The Notebook  \n",
              "3                                     Help!: Level 1  \n",
              "4  The Amsterdam Connection : Level 4 (Cambridge ...  "
            ],
            "text/html": [
              "\n",
              "  <div id=\"df-638b39d5-3928-493b-8103-14a720b183a9\">\n",
              "    <div class=\"colab-df-container\">\n",
              "      <div>\n",
              "<style scoped>\n",
              "    .dataframe tbody tr th:only-of-type {\n",
              "        vertical-align: middle;\n",
              "    }\n",
              "\n",
              "    .dataframe tbody tr th {\n",
              "        vertical-align: top;\n",
              "    }\n",
              "\n",
              "    .dataframe thead th {\n",
              "        text-align: right;\n",
              "    }\n",
              "</style>\n",
              "<table border=\"1\" class=\"dataframe\">\n",
              "  <thead>\n",
              "    <tr style=\"text-align: right;\">\n",
              "      <th></th>\n",
              "      <th>User-ID</th>\n",
              "      <th>ISBN</th>\n",
              "      <th>Book-Rating</th>\n",
              "      <th>Book-Title</th>\n",
              "    </tr>\n",
              "  </thead>\n",
              "  <tbody>\n",
              "    <tr>\n",
              "      <th>0</th>\n",
              "      <td>276725</td>\n",
              "      <td>034545104X</td>\n",
              "      <td>0</td>\n",
              "      <td>Flesh Tones: A Novel</td>\n",
              "    </tr>\n",
              "    <tr>\n",
              "      <th>1</th>\n",
              "      <td>276726</td>\n",
              "      <td>0155061224</td>\n",
              "      <td>5</td>\n",
              "      <td>Rites of Passage</td>\n",
              "    </tr>\n",
              "    <tr>\n",
              "      <th>2</th>\n",
              "      <td>276727</td>\n",
              "      <td>0446520802</td>\n",
              "      <td>0</td>\n",
              "      <td>The Notebook</td>\n",
              "    </tr>\n",
              "    <tr>\n",
              "      <th>3</th>\n",
              "      <td>276729</td>\n",
              "      <td>052165615X</td>\n",
              "      <td>3</td>\n",
              "      <td>Help!: Level 1</td>\n",
              "    </tr>\n",
              "    <tr>\n",
              "      <th>4</th>\n",
              "      <td>276729</td>\n",
              "      <td>0521795028</td>\n",
              "      <td>6</td>\n",
              "      <td>The Amsterdam Connection : Level 4 (Cambridge ...</td>\n",
              "    </tr>\n",
              "  </tbody>\n",
              "</table>\n",
              "</div>\n",
              "      <button class=\"colab-df-convert\" onclick=\"convertToInteractive('df-638b39d5-3928-493b-8103-14a720b183a9')\"\n",
              "              title=\"Convert this dataframe to an interactive table.\"\n",
              "              style=\"display:none;\">\n",
              "        \n",
              "  <svg xmlns=\"http://www.w3.org/2000/svg\" height=\"24px\"viewBox=\"0 0 24 24\"\n",
              "       width=\"24px\">\n",
              "    <path d=\"M0 0h24v24H0V0z\" fill=\"none\"/>\n",
              "    <path d=\"M18.56 5.44l.94 2.06.94-2.06 2.06-.94-2.06-.94-.94-2.06-.94 2.06-2.06.94zm-11 1L8.5 8.5l.94-2.06 2.06-.94-2.06-.94L8.5 2.5l-.94 2.06-2.06.94zm10 10l.94 2.06.94-2.06 2.06-.94-2.06-.94-.94-2.06-.94 2.06-2.06.94z\"/><path d=\"M17.41 7.96l-1.37-1.37c-.4-.4-.92-.59-1.43-.59-.52 0-1.04.2-1.43.59L10.3 9.45l-7.72 7.72c-.78.78-.78 2.05 0 2.83L4 21.41c.39.39.9.59 1.41.59.51 0 1.02-.2 1.41-.59l7.78-7.78 2.81-2.81c.8-.78.8-2.07 0-2.86zM5.41 20L4 18.59l7.72-7.72 1.47 1.35L5.41 20z\"/>\n",
              "  </svg>\n",
              "      </button>\n",
              "      \n",
              "  <style>\n",
              "    .colab-df-container {\n",
              "      display:flex;\n",
              "      flex-wrap:wrap;\n",
              "      gap: 12px;\n",
              "    }\n",
              "\n",
              "    .colab-df-convert {\n",
              "      background-color: #E8F0FE;\n",
              "      border: none;\n",
              "      border-radius: 50%;\n",
              "      cursor: pointer;\n",
              "      display: none;\n",
              "      fill: #1967D2;\n",
              "      height: 32px;\n",
              "      padding: 0 0 0 0;\n",
              "      width: 32px;\n",
              "    }\n",
              "\n",
              "    .colab-df-convert:hover {\n",
              "      background-color: #E2EBFA;\n",
              "      box-shadow: 0px 1px 2px rgba(60, 64, 67, 0.3), 0px 1px 3px 1px rgba(60, 64, 67, 0.15);\n",
              "      fill: #174EA6;\n",
              "    }\n",
              "\n",
              "    [theme=dark] .colab-df-convert {\n",
              "      background-color: #3B4455;\n",
              "      fill: #D2E3FC;\n",
              "    }\n",
              "\n",
              "    [theme=dark] .colab-df-convert:hover {\n",
              "      background-color: #434B5C;\n",
              "      box-shadow: 0px 1px 3px 1px rgba(0, 0, 0, 0.15);\n",
              "      filter: drop-shadow(0px 1px 2px rgba(0, 0, 0, 0.3));\n",
              "      fill: #FFFFFF;\n",
              "    }\n",
              "  </style>\n",
              "\n",
              "      <script>\n",
              "        const buttonEl =\n",
              "          document.querySelector('#df-638b39d5-3928-493b-8103-14a720b183a9 button.colab-df-convert');\n",
              "        buttonEl.style.display =\n",
              "          google.colab.kernel.accessAllowed ? 'block' : 'none';\n",
              "\n",
              "        async function convertToInteractive(key) {\n",
              "          const element = document.querySelector('#df-638b39d5-3928-493b-8103-14a720b183a9');\n",
              "          const dataTable =\n",
              "            await google.colab.kernel.invokeFunction('convertToInteractive',\n",
              "                                                     [key], {});\n",
              "          if (!dataTable) return;\n",
              "\n",
              "          const docLinkHtml = 'Like what you see? Visit the ' +\n",
              "            '<a target=\"_blank\" href=https://colab.research.google.com/notebooks/data_table.ipynb>data table notebook</a>'\n",
              "            + ' to learn more about interactive tables.';\n",
              "          element.innerHTML = '';\n",
              "          dataTable['output_type'] = 'display_data';\n",
              "          await google.colab.output.renderOutput(dataTable, element);\n",
              "          const docLink = document.createElement('div');\n",
              "          docLink.innerHTML = docLinkHtml;\n",
              "          element.appendChild(docLink);\n",
              "        }\n",
              "      </script>\n",
              "    </div>\n",
              "  </div>\n",
              "  "
            ]
          },
          "metadata": {},
          "execution_count": 4
        }
      ]
    },
    {
      "cell_type": "code",
      "source": [
        "# Encode users and books\n",
        "user_enc = LabelEncoder()\n",
        "filtered['user_id'] = user_enc.fit_transform(filtered['User-ID'].values)\n",
        "book_enc = LabelEncoder()\n",
        "filtered['book_id'] = book_enc.fit_transform(filtered['ISBN'].values)\n",
        "\n",
        "# Split the dataset\n",
        "train, test = train_test_split(filtered, test_size=0.2, random_state=42)"
      ],
      "metadata": {
        "id": "GwIhz1HTGgV5"
      },
      "id": "GwIhz1HTGgV5",
      "execution_count": 5,
      "outputs": []
    },
    {
      "cell_type": "code",
      "execution_count": 6,
      "id": "5b9a9cbd",
      "metadata": {
        "id": "5b9a9cbd"
      },
      "outputs": [],
      "source": [
        "# Define the neural collaborative filtering model\n",
        "embedding_size = 50\n",
        "\n",
        "user_input = tf.keras.layers.Input(shape=[1], name='user_input')\n",
        "user_embedding = tf.keras.layers.Embedding(input_dim=len(user_enc.classes_), output_dim=embedding_size, name='user_embedding')(user_input)\n",
        "user_vec = tf.keras.layers.Flatten(name='user_vec')(user_embedding)\n",
        "\n",
        "book_input = tf.keras.layers.Input(shape=[1], name='book_input')\n",
        "book_embedding = tf.keras.layers.Embedding(input_dim=len(book_enc.classes_), output_dim=embedding_size, name='book_embedding')(book_input)\n",
        "book_vec = tf.keras.layers.Flatten(name='book_vec')(book_embedding)\n",
        "\n",
        "concat = tf.keras.layers.Concatenate()([user_vec, book_vec])\n",
        "dense = tf.keras.layers.Dense(256, activation='relu')(concat)\n",
        "dense = tf.keras.layers.Dense(128, activation='relu')(dense)\n",
        "dense = tf.keras.layers.Dense(64, activation='relu')(dense)\n",
        "output = tf.keras.layers.Dense(1)(dense)\n"
      ]
    },
    {
      "cell_type": "code",
      "execution_count": 7,
      "id": "78f65b82",
      "metadata": {
        "id": "78f65b82"
      },
      "outputs": [],
      "source": [
        "model = tf.keras.models.Model(inputs=[user_input, book_input], outputs=output)\n",
        "model.compile(optimizer='adam', loss='mean_squared_error')"
      ]
    },
    {
      "cell_type": "code",
      "execution_count": 8,
      "id": "f5687f13",
      "metadata": {
        "id": "f5687f13",
        "colab": {
          "base_uri": "https://localhost:8080/"
        },
        "outputId": "4398c157-e359-4834-fb70-7dab1c6257e7"
      },
      "outputs": [
        {
          "output_type": "stream",
          "name": "stdout",
          "text": [
            "Epoch 1/10\n",
            "6445/6445 [==============================] - 64s 9ms/step - loss: 11.7070 - val_loss: 11.2750\n",
            "Epoch 2/10\n",
            "6445/6445 [==============================] - 54s 8ms/step - loss: 8.9743 - val_loss: 12.2412\n",
            "Epoch 3/10\n",
            "6445/6445 [==============================] - 54s 8ms/step - loss: 7.3876 - val_loss: 13.0753\n",
            "Epoch 4/10\n",
            "6445/6445 [==============================] - 53s 8ms/step - loss: 5.6799 - val_loss: 14.0381\n",
            "Epoch 5/10\n",
            "6445/6445 [==============================] - 52s 8ms/step - loss: 4.0426 - val_loss: 14.5518\n",
            "Epoch 6/10\n",
            "6445/6445 [==============================] - 54s 8ms/step - loss: 2.9487 - val_loss: 15.2702\n",
            "Epoch 7/10\n",
            "6445/6445 [==============================] - 54s 8ms/step - loss: 2.2999 - val_loss: 16.0100\n",
            "Epoch 8/10\n",
            "6445/6445 [==============================] - 53s 8ms/step - loss: 1.8564 - val_loss: 16.3586\n",
            "Epoch 9/10\n",
            "6445/6445 [==============================] - 53s 8ms/step - loss: 1.5547 - val_loss: 16.3449\n",
            "Epoch 10/10\n",
            "6445/6445 [==============================] - 52s 8ms/step - loss: 1.3365 - val_loss: 16.6559\n"
          ]
        },
        {
          "output_type": "execute_result",
          "data": {
            "text/plain": [
              "<keras.callbacks.History at 0x7f1ded96e400>"
            ]
          },
          "metadata": {},
          "execution_count": 8
        }
      ],
      "source": [
        "# Train the model\n",
        "X_train = [train['user_id'].values, train['book_id'].values]\n",
        "y_train = train['Book-Rating'].values\n",
        "X_test = [test['user_id'].values, test['book_id'].values]\n",
        "y_test = test['Book-Rating'].values\n",
        "\n",
        "model.fit(X_train, y_train, validation_data=(X_test, y_test), validation_split=0.1, batch_size=128, epochs=10)"
      ]
    },
    {
      "cell_type": "code",
      "execution_count": 9,
      "id": "03d7da84",
      "metadata": {
        "id": "03d7da84"
      },
      "outputs": [],
      "source": [
        "# Create a recommendation function\n",
        "def recommend_books(book_title, n_recommendations=5):\n",
        "    book_id = filtered.loc[filtered['Book-Title'] == book_title]['book_id'].iloc[0]\n",
        "    user_ids = np.array(list(set(filtered['user_id'].values)))\n",
        "\n",
        "    book_ids = np.array([book_id] * len(user_ids))\n",
        "    predictions = model.predict([user_ids, book_ids]).flatten()\n",
        "\n",
        "    top_indices = predictions.argsort()[-n_recommendations:][::-1]\n",
        "    top_user_ids = user_ids[top_indices]\n",
        "    recommended_book_ids =[]\n",
        "    for user_id in top_user_ids:\n",
        "        user_ratings = filtered.loc[filtered['user_id'] == user_id]\n",
        "        top_book_id = user_ratings.sort_values('Book-Rating', ascending=False)['book_id'].iloc[0]\n",
        "        recommended_book_ids.append(top_book_id)\n",
        "\n",
        "    recommended_books = book_enc.inverse_transform(recommended_book_ids)\n",
        "    return books[books['ISBN'].isin(recommended_books)]['Book-Title'].values"
      ]
    },
    {
      "cell_type": "code",
      "execution_count": 10,
      "id": "0c69ac51",
      "metadata": {
        "id": "0c69ac51",
        "colab": {
          "base_uri": "https://localhost:8080/"
        },
        "outputId": "9ca609f6-1943-4e31-ebaf-99e2a03b1f16"
      },
      "outputs": [
        {
          "output_type": "stream",
          "name": "stdout",
          "text": [
            "6445/6445 [==============================] - 11s 2ms/step\n",
            "Mean Squared Error: 16.655926075378932\n",
            "Mean Absoluate Error: 2.724039026417105\n",
            "Root Mean Squared Error: 4.081167244230373\n"
          ]
        }
      ],
      "source": [
        "# Prediction and performance evaluation\n",
        "\n",
        "y_pred = model.predict(X_test)\n",
        "mse = mean_squared_error(y_test, y_pred)\n",
        "print(f'Mean Squared Error: {mse}')\n",
        "mae = mean_absolute_error(y_test, y_pred)\n",
        "print(f'Mean Absoluate Error: {mae}')\n",
        "rmse = np.sqrt(mse)\n",
        "print(f'Root Mean Squared Error: {rmse}')\n"
      ]
    },
    {
      "cell_type": "code",
      "execution_count": 11,
      "id": "6e5b32c4",
      "metadata": {
        "id": "6e5b32c4",
        "colab": {
          "base_uri": "https://localhost:8080/"
        },
        "outputId": "efddcc0a-7357-4245-daa1-e971c3dbe44f"
      },
      "outputs": [
        {
          "output_type": "stream",
          "name": "stdout",
          "text": [
            "2879/2879 [==============================] - 6s 2ms/step\n",
            "Recommended books for \"The Da Vinci Code\":\n",
            "- The Da Vinci Code\n",
            "- Kane & Abel\n",
            "- Sherlock Holmes: The Complete Novels and Stories (Sherlock Holmes)\n",
            "- Time Bomb (Alex Delaware Novels (Paperback))\n",
            "- Canoe Country Wildlife: A Field Guide to the North Woods and Boundary Waters\n"
          ]
        }
      ],
      "source": [
        "# Test the recommendation function\n",
        "book_title = 'The Da Vinci Code'\n",
        "recommended_books = recommend_books(book_title)\n",
        "print(f'Recommended books for \"{book_title}\":')\n",
        "for book in recommended_books:\n",
        "    print(f'- {book}')"
      ]
    },
    {
      "cell_type": "code",
      "source": [],
      "metadata": {
        "id": "-2RsJYdGC-xq"
      },
      "id": "-2RsJYdGC-xq",
      "execution_count": 11,
      "outputs": []
    },
    {
      "cell_type": "code",
      "source": [],
      "metadata": {
        "id": "hBV7ygbiC-9_"
      },
      "id": "hBV7ygbiC-9_",
      "execution_count": 11,
      "outputs": []
    },
    {
      "cell_type": "markdown",
      "source": [
        "#Content-Based Collaborative Filtering"
      ],
      "metadata": {
        "id": "hqk3pzZEaYrr"
      },
      "id": "hqk3pzZEaYrr"
    },
    {
      "cell_type": "code",
      "source": [
        "!pip install gensim"
      ],
      "metadata": {
        "id": "PsP7Ah59dXij",
        "colab": {
          "base_uri": "https://localhost:8080/"
        },
        "outputId": "694fde10-d2dd-462e-88cc-7fbdaec02930"
      },
      "id": "PsP7Ah59dXij",
      "execution_count": 12,
      "outputs": [
        {
          "output_type": "stream",
          "name": "stdout",
          "text": [
            "Looking in indexes: https://pypi.org/simple, https://us-python.pkg.dev/colab-wheels/public/simple/\n",
            "Requirement already satisfied: gensim in /usr/local/lib/python3.9/dist-packages (3.6.0)\n",
            "Requirement already satisfied: scipy>=0.18.1 in /usr/local/lib/python3.9/dist-packages (from gensim) (1.10.1)\n",
            "Requirement already satisfied: smart-open>=1.2.1 in /usr/local/lib/python3.9/dist-packages (from gensim) (6.3.0)\n",
            "Requirement already satisfied: numpy>=1.11.3 in /usr/local/lib/python3.9/dist-packages (from gensim) (1.22.4)\n",
            "Requirement already satisfied: six>=1.5.0 in /usr/local/lib/python3.9/dist-packages (from gensim) (1.15.0)\n"
          ]
        }
      ]
    },
    {
      "cell_type": "code",
      "source": [
        "merged = ratings.merge(users, on='User-ID', how='left').merge(books, on='ISBN', how='left')\n",
        "filtered = merged[['User-ID', 'ISBN', 'Book-Rating', 'Book-Title', 'Book-Author']].dropna()\n"
      ],
      "metadata": {
        "id": "8IQIChU1erey"
      },
      "id": "8IQIChU1erey",
      "execution_count": 13,
      "outputs": []
    },
    {
      "cell_type": "code",
      "source": [
        "filtered.head(10)"
      ],
      "metadata": {
        "id": "TAJURvDEjDlg",
        "colab": {
          "base_uri": "https://localhost:8080/",
          "height": 363
        },
        "outputId": "fcfe2ca5-e1e8-4a44-b7ac-06295eb60394"
      },
      "id": "TAJURvDEjDlg",
      "execution_count": 14,
      "outputs": [
        {
          "output_type": "execute_result",
          "data": {
            "text/plain": [
              "    User-ID        ISBN  Book-Rating  \\\n",
              "0    276725  034545104X            0   \n",
              "1    276726  0155061224            5   \n",
              "2    276727  0446520802            0   \n",
              "3    276729  052165615X            3   \n",
              "4    276729  0521795028            6   \n",
              "5    276733  2080674722            0   \n",
              "8    276744  038550120X            7   \n",
              "10   276746  0425115801            0   \n",
              "11   276746  0449006522            0   \n",
              "12   276746  0553561618            0   \n",
              "\n",
              "                                           Book-Title         Book-Author  \n",
              "0                                Flesh Tones: A Novel          M. J. Rose  \n",
              "1                                    Rites of Passage          Judith Rae  \n",
              "2                                        The Notebook     Nicholas Sparks  \n",
              "3                                      Help!: Level 1       Philip Prowse  \n",
              "4   The Amsterdam Connection : Level 4 (Cambridge ...         Sue Leather  \n",
              "5                         Les Particules Elementaires  Michel Houellebecq  \n",
              "8                                     A Painted House        JOHN GRISHAM  \n",
              "10                                          Lightning      Dean R. Koontz  \n",
              "11                                Manhattan Hunt Club           JOHN SAUL  \n",
              "12                                      Dark Paradise           TAMI HOAG  "
            ],
            "text/html": [
              "\n",
              "  <div id=\"df-c97955a4-99ca-435b-a9cf-da0921eb6e72\">\n",
              "    <div class=\"colab-df-container\">\n",
              "      <div>\n",
              "<style scoped>\n",
              "    .dataframe tbody tr th:only-of-type {\n",
              "        vertical-align: middle;\n",
              "    }\n",
              "\n",
              "    .dataframe tbody tr th {\n",
              "        vertical-align: top;\n",
              "    }\n",
              "\n",
              "    .dataframe thead th {\n",
              "        text-align: right;\n",
              "    }\n",
              "</style>\n",
              "<table border=\"1\" class=\"dataframe\">\n",
              "  <thead>\n",
              "    <tr style=\"text-align: right;\">\n",
              "      <th></th>\n",
              "      <th>User-ID</th>\n",
              "      <th>ISBN</th>\n",
              "      <th>Book-Rating</th>\n",
              "      <th>Book-Title</th>\n",
              "      <th>Book-Author</th>\n",
              "    </tr>\n",
              "  </thead>\n",
              "  <tbody>\n",
              "    <tr>\n",
              "      <th>0</th>\n",
              "      <td>276725</td>\n",
              "      <td>034545104X</td>\n",
              "      <td>0</td>\n",
              "      <td>Flesh Tones: A Novel</td>\n",
              "      <td>M. J. Rose</td>\n",
              "    </tr>\n",
              "    <tr>\n",
              "      <th>1</th>\n",
              "      <td>276726</td>\n",
              "      <td>0155061224</td>\n",
              "      <td>5</td>\n",
              "      <td>Rites of Passage</td>\n",
              "      <td>Judith Rae</td>\n",
              "    </tr>\n",
              "    <tr>\n",
              "      <th>2</th>\n",
              "      <td>276727</td>\n",
              "      <td>0446520802</td>\n",
              "      <td>0</td>\n",
              "      <td>The Notebook</td>\n",
              "      <td>Nicholas Sparks</td>\n",
              "    </tr>\n",
              "    <tr>\n",
              "      <th>3</th>\n",
              "      <td>276729</td>\n",
              "      <td>052165615X</td>\n",
              "      <td>3</td>\n",
              "      <td>Help!: Level 1</td>\n",
              "      <td>Philip Prowse</td>\n",
              "    </tr>\n",
              "    <tr>\n",
              "      <th>4</th>\n",
              "      <td>276729</td>\n",
              "      <td>0521795028</td>\n",
              "      <td>6</td>\n",
              "      <td>The Amsterdam Connection : Level 4 (Cambridge ...</td>\n",
              "      <td>Sue Leather</td>\n",
              "    </tr>\n",
              "    <tr>\n",
              "      <th>5</th>\n",
              "      <td>276733</td>\n",
              "      <td>2080674722</td>\n",
              "      <td>0</td>\n",
              "      <td>Les Particules Elementaires</td>\n",
              "      <td>Michel Houellebecq</td>\n",
              "    </tr>\n",
              "    <tr>\n",
              "      <th>8</th>\n",
              "      <td>276744</td>\n",
              "      <td>038550120X</td>\n",
              "      <td>7</td>\n",
              "      <td>A Painted House</td>\n",
              "      <td>JOHN GRISHAM</td>\n",
              "    </tr>\n",
              "    <tr>\n",
              "      <th>10</th>\n",
              "      <td>276746</td>\n",
              "      <td>0425115801</td>\n",
              "      <td>0</td>\n",
              "      <td>Lightning</td>\n",
              "      <td>Dean R. Koontz</td>\n",
              "    </tr>\n",
              "    <tr>\n",
              "      <th>11</th>\n",
              "      <td>276746</td>\n",
              "      <td>0449006522</td>\n",
              "      <td>0</td>\n",
              "      <td>Manhattan Hunt Club</td>\n",
              "      <td>JOHN SAUL</td>\n",
              "    </tr>\n",
              "    <tr>\n",
              "      <th>12</th>\n",
              "      <td>276746</td>\n",
              "      <td>0553561618</td>\n",
              "      <td>0</td>\n",
              "      <td>Dark Paradise</td>\n",
              "      <td>TAMI HOAG</td>\n",
              "    </tr>\n",
              "  </tbody>\n",
              "</table>\n",
              "</div>\n",
              "      <button class=\"colab-df-convert\" onclick=\"convertToInteractive('df-c97955a4-99ca-435b-a9cf-da0921eb6e72')\"\n",
              "              title=\"Convert this dataframe to an interactive table.\"\n",
              "              style=\"display:none;\">\n",
              "        \n",
              "  <svg xmlns=\"http://www.w3.org/2000/svg\" height=\"24px\"viewBox=\"0 0 24 24\"\n",
              "       width=\"24px\">\n",
              "    <path d=\"M0 0h24v24H0V0z\" fill=\"none\"/>\n",
              "    <path d=\"M18.56 5.44l.94 2.06.94-2.06 2.06-.94-2.06-.94-.94-2.06-.94 2.06-2.06.94zm-11 1L8.5 8.5l.94-2.06 2.06-.94-2.06-.94L8.5 2.5l-.94 2.06-2.06.94zm10 10l.94 2.06.94-2.06 2.06-.94-2.06-.94-.94-2.06-.94 2.06-2.06.94z\"/><path d=\"M17.41 7.96l-1.37-1.37c-.4-.4-.92-.59-1.43-.59-.52 0-1.04.2-1.43.59L10.3 9.45l-7.72 7.72c-.78.78-.78 2.05 0 2.83L4 21.41c.39.39.9.59 1.41.59.51 0 1.02-.2 1.41-.59l7.78-7.78 2.81-2.81c.8-.78.8-2.07 0-2.86zM5.41 20L4 18.59l7.72-7.72 1.47 1.35L5.41 20z\"/>\n",
              "  </svg>\n",
              "      </button>\n",
              "      \n",
              "  <style>\n",
              "    .colab-df-container {\n",
              "      display:flex;\n",
              "      flex-wrap:wrap;\n",
              "      gap: 12px;\n",
              "    }\n",
              "\n",
              "    .colab-df-convert {\n",
              "      background-color: #E8F0FE;\n",
              "      border: none;\n",
              "      border-radius: 50%;\n",
              "      cursor: pointer;\n",
              "      display: none;\n",
              "      fill: #1967D2;\n",
              "      height: 32px;\n",
              "      padding: 0 0 0 0;\n",
              "      width: 32px;\n",
              "    }\n",
              "\n",
              "    .colab-df-convert:hover {\n",
              "      background-color: #E2EBFA;\n",
              "      box-shadow: 0px 1px 2px rgba(60, 64, 67, 0.3), 0px 1px 3px 1px rgba(60, 64, 67, 0.15);\n",
              "      fill: #174EA6;\n",
              "    }\n",
              "\n",
              "    [theme=dark] .colab-df-convert {\n",
              "      background-color: #3B4455;\n",
              "      fill: #D2E3FC;\n",
              "    }\n",
              "\n",
              "    [theme=dark] .colab-df-convert:hover {\n",
              "      background-color: #434B5C;\n",
              "      box-shadow: 0px 1px 3px 1px rgba(0, 0, 0, 0.15);\n",
              "      filter: drop-shadow(0px 1px 2px rgba(0, 0, 0, 0.3));\n",
              "      fill: #FFFFFF;\n",
              "    }\n",
              "  </style>\n",
              "\n",
              "      <script>\n",
              "        const buttonEl =\n",
              "          document.querySelector('#df-c97955a4-99ca-435b-a9cf-da0921eb6e72 button.colab-df-convert');\n",
              "        buttonEl.style.display =\n",
              "          google.colab.kernel.accessAllowed ? 'block' : 'none';\n",
              "\n",
              "        async function convertToInteractive(key) {\n",
              "          const element = document.querySelector('#df-c97955a4-99ca-435b-a9cf-da0921eb6e72');\n",
              "          const dataTable =\n",
              "            await google.colab.kernel.invokeFunction('convertToInteractive',\n",
              "                                                     [key], {});\n",
              "          if (!dataTable) return;\n",
              "\n",
              "          const docLinkHtml = 'Like what you see? Visit the ' +\n",
              "            '<a target=\"_blank\" href=https://colab.research.google.com/notebooks/data_table.ipynb>data table notebook</a>'\n",
              "            + ' to learn more about interactive tables.';\n",
              "          element.innerHTML = '';\n",
              "          dataTable['output_type'] = 'display_data';\n",
              "          await google.colab.output.renderOutput(dataTable, element);\n",
              "          const docLink = document.createElement('div');\n",
              "          docLink.innerHTML = docLinkHtml;\n",
              "          element.appendChild(docLink);\n",
              "        }\n",
              "      </script>\n",
              "    </div>\n",
              "  </div>\n",
              "  "
            ]
          },
          "metadata": {},
          "execution_count": 14
        }
      ]
    },
    {
      "cell_type": "code",
      "source": [
        "filtered.shape"
      ],
      "metadata": {
        "id": "m2sC_83waUb8",
        "colab": {
          "base_uri": "https://localhost:8080/"
        },
        "outputId": "6348de4c-ae77-4b6a-e2f2-c682ad8fda1f"
      },
      "id": "m2sC_83waUb8",
      "execution_count": 15,
      "outputs": [
        {
          "output_type": "execute_result",
          "data": {
            "text/plain": [
              "(1031174, 5)"
            ]
          },
          "metadata": {},
          "execution_count": 15
        }
      ]
    },
    {
      "cell_type": "markdown",
      "source": [
        "## Recommendation by Book Autor and similar books with ratings"
      ],
      "metadata": {
        "id": "TswuUWserj79"
      },
      "id": "TswuUWserj79"
    },
    {
      "cell_type": "code",
      "source": [
        "#Extract features from book authors using Word2Vec\n",
        "authors = [row.split() for row in filtered['Book-Author'].values]\n",
        "word2vec = Word2Vec(authors, size=100, window=5, min_count=1, workers=4)"
      ],
      "metadata": {
        "id": "q3cImpo6goqH"
      },
      "id": "q3cImpo6goqH",
      "execution_count": 16,
      "outputs": []
    },
    {
      "cell_type": "code",
      "source": [
        "def author_embedding(author):\n",
        "    words = author.split()\n",
        "    embeddings = [word2vec.wv[word] for word in words if word in word2vec.wv]\n",
        "    return np.mean(embeddings, axis=0)\n",
        "\n",
        "filtered['author_features'] = filtered['Book-Author'].apply(author_embedding).values.tolist()"
      ],
      "metadata": {
        "id": "ufUi4cDngo16"
      },
      "id": "ufUi4cDngo16",
      "execution_count": 17,
      "outputs": []
    },
    {
      "cell_type": "code",
      "source": [
        "# Split the dataset\n",
        "train, test = train_test_split(filtered, test_size=0.2, random_state=42)"
      ],
      "metadata": {
        "id": "MSiKPGIDhZdh"
      },
      "id": "MSiKPGIDhZdh",
      "execution_count": 18,
      "outputs": []
    },
    {
      "cell_type": "code",
      "source": [
        "# Define the neural network model\n",
        "input_layer = tf.keras.layers.Input(shape=(100,))\n",
        "dense = tf.keras.layers.Dense(256, activation='relu')(input_layer)\n",
        "dense = tf.keras.layers.Dense(128, activation='relu')(dense)\n",
        "dense = tf.keras.layers.Dense(64, activation='relu')(dense)\n",
        "output = tf.keras.layers.Dense(1)(dense)\n",
        "\n",
        "model = tf.keras.models.Model(inputs=input_layer, outputs=output)\n",
        "model.compile(optimizer='adam', loss='mean_squared_error')"
      ],
      "metadata": {
        "id": "-fRrHkHChZpK"
      },
      "id": "-fRrHkHChZpK",
      "execution_count": 19,
      "outputs": []
    },
    {
      "cell_type": "code",
      "source": [
        "X_train = np.array(train['author_features'].values.tolist())\n",
        "y_train = train['Book-Rating'].values\n",
        "X_test = np.array(test['author_features'].values.tolist())\n",
        "y_test = test['Book-Rating'].values\n",
        "\n",
        "model.fit(X_train, y_train, validation_data=(X_test, y_test),validation_split=0.1, batch_size=128, epochs=10)\n",
        "\n"
      ],
      "metadata": {
        "id": "NbEZB3I3hi7X",
        "colab": {
          "base_uri": "https://localhost:8080/"
        },
        "outputId": "5dc65fd9-af95-4179-b31d-cff646d3d786"
      },
      "id": "NbEZB3I3hi7X",
      "execution_count": 20,
      "outputs": [
        {
          "output_type": "stream",
          "name": "stdout",
          "text": [
            "Epoch 1/10\n",
            "6445/6445 [==============================] - 24s 3ms/step - loss: 14.7975 - val_loss: 14.7865\n",
            "Epoch 2/10\n",
            "6445/6445 [==============================] - 25s 4ms/step - loss: 14.6854 - val_loss: 14.6436\n",
            "Epoch 3/10\n",
            "6445/6445 [==============================] - 23s 4ms/step - loss: 14.6435 - val_loss: 14.6270\n",
            "Epoch 4/10\n",
            "6445/6445 [==============================] - 22s 3ms/step - loss: 14.6158 - val_loss: 14.6644\n",
            "Epoch 5/10\n",
            "6445/6445 [==============================] - 22s 3ms/step - loss: 14.5903 - val_loss: 14.6485\n",
            "Epoch 6/10\n",
            "6445/6445 [==============================] - 22s 3ms/step - loss: 14.5734 - val_loss: 14.5906\n",
            "Epoch 7/10\n",
            "6445/6445 [==============================] - 22s 3ms/step - loss: 14.5542 - val_loss: 14.5709\n",
            "Epoch 8/10\n",
            "6445/6445 [==============================] - 22s 3ms/step - loss: 14.5395 - val_loss: 14.5816\n",
            "Epoch 9/10\n",
            "6445/6445 [==============================] - 22s 3ms/step - loss: 14.5221 - val_loss: 14.5769\n",
            "Epoch 10/10\n",
            "6445/6445 [==============================] - 22s 3ms/step - loss: 14.5085 - val_loss: 14.5538\n"
          ]
        },
        {
          "output_type": "execute_result",
          "data": {
            "text/plain": [
              "<keras.callbacks.History at 0x7f1cb3a661c0>"
            ]
          },
          "metadata": {},
          "execution_count": 20
        }
      ]
    },
    {
      "cell_type": "code",
      "source": [
        "# Recommendation function\n",
        "def recommend_books_by_author(query, n_recommendations=5):\n",
        "    query_features = author_embedding(query)\n",
        "    book_features = np.array(filtered['author_features'].values.tolist())\n",
        "    similarities = np.dot(query_features, book_features.T)\n",
        "    top_indices = np.argsort(similarities)[-n_recommendations:][::-1]\n",
        "    return filtered.iloc[top_indices][['Book-Title', 'Book-Rating']].values\n",
        "\n",
        "\n",
        "\n",
        "# Prediction and performance evaluation\n",
        "y_pred = model.predict(X_test)\n",
        "mse = mean_squared_error(y_test, y_pred)\n",
        "print(f'Mean Squared Error: {mse}')\n",
        "mae = mean_absolute_error(y_test, y_pred)\n",
        "print(f'Mean Absoluate Error: {mae}')\n",
        "rmse = np.sqrt(mse)\n",
        "print(f'Root Mean Squared Error: {rmse}')\n"
      ],
      "metadata": {
        "id": "2S_6Y0v7hjsg",
        "colab": {
          "base_uri": "https://localhost:8080/"
        },
        "outputId": "dcce7b92-ce6d-453c-f182-a2154dbe5bfd"
      },
      "id": "2S_6Y0v7hjsg",
      "execution_count": 21,
      "outputs": [
        {
          "output_type": "stream",
          "name": "stdout",
          "text": [
            "6445/6445 [==============================] - 10s 2ms/step\n",
            "Mean Squared Error: 14.55380140412487\n",
            "Mean Absoluate Error: 3.4984036164277743\n",
            "Root Mean Squared Error: 3.8149444824433383\n"
          ]
        }
      ]
    },
    {
      "cell_type": "code",
      "source": [
        "query = 'JOHN GRISHAM'\n",
        "recommended_books = recommend_books_by_author(query)\n",
        "print(f'Recommended books for \"{query}\":')\n",
        "for book, rating in recommended_books:\n",
        "    print(f'- {book} (Rating: {rating})')"
      ],
      "metadata": {
        "id": "dTM7Hs66qqcW",
        "colab": {
          "base_uri": "https://localhost:8080/"
        },
        "outputId": "75a325d0-f9e0-41da-e3d0-04ae522d0049"
      },
      "id": "dTM7Hs66qqcW",
      "execution_count": 22,
      "outputs": [
        {
          "output_type": "stream",
          "name": "stdout",
          "text": [
            "Recommended books for \"JOHN GRISHAM\":\n",
            "- The King of Torts (Rating: 0)\n",
            "- The King of Torts (Rating: 0)\n",
            "- A Time to Kill (Rating: 8)\n",
            "- The Street Lawyer (Rating: 7)\n",
            "- The Runaway Jury (Rating: 10)\n"
          ]
        }
      ]
    },
    {
      "cell_type": "code",
      "source": [],
      "metadata": {
        "id": "unJEycdJtHpM"
      },
      "id": "unJEycdJtHpM",
      "execution_count": 22,
      "outputs": []
    },
    {
      "cell_type": "code",
      "source": [],
      "metadata": {
        "id": "3xQxRHMUtHzB"
      },
      "id": "3xQxRHMUtHzB",
      "execution_count": 22,
      "outputs": []
    },
    {
      "cell_type": "markdown",
      "source": [
        "## Recommendations by book title and similar books with ratings"
      ],
      "metadata": {
        "id": "fOEnRqyMr4JV"
      },
      "id": "fOEnRqyMr4JV"
    },
    {
      "cell_type": "code",
      "source": [
        "# Extract features from book titles using Word2Vec\n",
        "titles = [row.split() for row in filtered['Book-Title'].values]\n",
        "word2vec = Word2Vec(titles, size=100, window=5, min_count=1, workers=4)"
      ],
      "metadata": {
        "id": "3Ap4vloqtsAh"
      },
      "id": "3Ap4vloqtsAh",
      "execution_count": 23,
      "outputs": []
    },
    {
      "cell_type": "code",
      "source": [
        "def title_embedding(title):\n",
        "    words = title.split()\n",
        "    embeddings = [word2vec.wv[word] for word in words if word in word2vec.wv]\n",
        "    return np.mean(embeddings, axis=0)\n",
        "\n",
        "filtered['title_features'] = filtered['Book-Title'].apply(title_embedding).values.tolist()"
      ],
      "metadata": {
        "id": "b4KTM_GQtsWO"
      },
      "id": "b4KTM_GQtsWO",
      "execution_count": 24,
      "outputs": []
    },
    {
      "cell_type": "code",
      "source": [
        "# Split the dataset\n",
        "train, test = train_test_split(filtered, test_size=0.2, random_state=42)"
      ],
      "metadata": {
        "id": "rmy6Worgtsh3"
      },
      "id": "rmy6Worgtsh3",
      "execution_count": 25,
      "outputs": []
    },
    {
      "cell_type": "code",
      "source": [
        "# Define the neural network model\n",
        "input_layer = tf.keras.layers.Input(shape=(100,))\n",
        "dense = tf.keras.layers.Dense(256, activation='relu')(input_layer)\n",
        "dense = tf.keras.layers.Dense(128, activation='relu')(dense)\n",
        "dense = tf.keras.layers.Dense(64, activation='relu')(dense)\n",
        "output = tf.keras.layers.Dense(1)(dense)\n",
        "\n",
        "model = tf.keras.models.Model(inputs=input_layer, outputs=output)\n",
        "model.compile(optimizer='adam', loss='mean_squared_error')"
      ],
      "metadata": {
        "id": "Cc0p2qVzt0JF"
      },
      "id": "Cc0p2qVzt0JF",
      "execution_count": 26,
      "outputs": []
    },
    {
      "cell_type": "code",
      "source": [
        "# Train the model\n",
        "X_train = np.array(train['title_features'].values.tolist())\n",
        "y_train = train['Book-Rating'].values\n",
        "X_test = np.array(test['title_features'].values.tolist())\n",
        "y_test = test['Book-Rating'].values\n",
        "\n",
        "model.fit(X_train, y_train, validation_data=(X_test, y_test), validation_split=0.1, batch_size=128, epochs=10)\n"
      ],
      "metadata": {
        "id": "cMiHmbvnt0NE",
        "colab": {
          "base_uri": "https://localhost:8080/"
        },
        "outputId": "7d0daf35-a833-4591-c4e4-662e618cbb78"
      },
      "id": "cMiHmbvnt0NE",
      "execution_count": 27,
      "outputs": [
        {
          "output_type": "stream",
          "name": "stdout",
          "text": [
            "Epoch 1/10\n",
            "6445/6445 [==============================] - 23s 3ms/step - loss: 14.6910 - val_loss: 14.5890\n",
            "Epoch 2/10\n",
            "6445/6445 [==============================] - 22s 3ms/step - loss: 14.5987 - val_loss: 14.5585\n",
            "Epoch 3/10\n",
            "6445/6445 [==============================] - 22s 3ms/step - loss: 14.5635 - val_loss: 14.5750\n",
            "Epoch 4/10\n",
            "6445/6445 [==============================] - 21s 3ms/step - loss: 14.5357 - val_loss: 14.5290\n",
            "Epoch 5/10\n",
            "6445/6445 [==============================] - 23s 4ms/step - loss: 14.5079 - val_loss: 14.5257\n",
            "Epoch 6/10\n",
            "6445/6445 [==============================] - 28s 4ms/step - loss: 14.4869 - val_loss: 14.5272\n",
            "Epoch 7/10\n",
            "6445/6445 [==============================] - 25s 4ms/step - loss: 14.4684 - val_loss: 14.5204\n",
            "Epoch 8/10\n",
            "6445/6445 [==============================] - 23s 3ms/step - loss: 14.4465 - val_loss: 14.5219\n",
            "Epoch 9/10\n",
            "6445/6445 [==============================] - 23s 4ms/step - loss: 14.4262 - val_loss: 14.5256\n",
            "Epoch 10/10\n",
            "6445/6445 [==============================] - 23s 4ms/step - loss: 14.4106 - val_loss: 14.5238\n"
          ]
        },
        {
          "output_type": "execute_result",
          "data": {
            "text/plain": [
              "<keras.callbacks.History at 0x7f1ded9c12e0>"
            ]
          },
          "metadata": {},
          "execution_count": 27
        }
      ]
    },
    {
      "cell_type": "code",
      "source": [
        "# Recommendation function\n",
        "def recommend_books_by_title(query, n_recommendations=5):\n",
        "    query_features = title_embedding(query)\n",
        "    book_features = np.array(filtered['title_features'].values.tolist())\n",
        "    similarities = np.dot(query_features, book_features.T)\n",
        "    top_indices = np.argsort(similarities)[-n_recommendations:][::-1]\n",
        "    return filtered.iloc[top_indices][['Book-Title', 'Book-Rating']].values\n"
      ],
      "metadata": {
        "id": "AvmNKuIDt6dE"
      },
      "id": "AvmNKuIDt6dE",
      "execution_count": 28,
      "outputs": []
    },
    {
      "cell_type": "code",
      "source": [
        "# Prediction and performance evaluation\n",
        "y_pred = model.predict(X_test)\n",
        "mse = mean_squared_error(y_test, y_pred)\n",
        "print(f'Mean Squared Error: {mse}')\n",
        "mae = mean_absolute_error(y_test, y_pred)\n",
        "print(f'Mean Absoluate Error: {mae}')\n",
        "rmse = np.sqrt(mse)\n",
        "print(f'Root Mean Squared Error: {rmse}')"
      ],
      "metadata": {
        "id": "7eIGpuWft6kq",
        "colab": {
          "base_uri": "https://localhost:8080/"
        },
        "outputId": "a4f58143-bebe-413b-f58b-c4eabddc6c65"
      },
      "id": "7eIGpuWft6kq",
      "execution_count": 29,
      "outputs": [
        {
          "output_type": "stream",
          "name": "stdout",
          "text": [
            "6445/6445 [==============================] - 10s 1ms/step\n",
            "Mean Squared Error: 14.523797161486439\n",
            "Mean Absoluate Error: 3.4666857348443996\n",
            "Root Mean Squared Error: 3.81100999230997\n"
          ]
        }
      ]
    },
    {
      "cell_type": "code",
      "source": [
        "# Test the recommendation function\n",
        "query = 'Harry Potter'\n",
        "recommended_books = recommend_books_by_title(query)\n",
        "print(f'Recommended books for \"{query}\":')\n",
        "for book, rating in recommended_books:\n",
        "    print(f'- {book} (Rating: {rating})')\n"
      ],
      "metadata": {
        "id": "UOg_662Zd7x1",
        "colab": {
          "base_uri": "https://localhost:8080/"
        },
        "outputId": "5b0ed551-53cb-45f8-e528-234cf0b72f22"
      },
      "id": "UOg_662Zd7x1",
      "execution_count": 30,
      "outputs": [
        {
          "output_type": "stream",
          "name": "stdout",
          "text": [
            "Recommended books for \"Harry Potter\":\n",
            "- The Potter (Rating: 10)\n",
            "- Great Harry (Rating: 0)\n",
            "- Harry Potter Fun Book (Rating: 0)\n",
            "- Harry Potter Stationery Kit (Rating: 0)\n",
            "- Harry Potter Stationery Kit (Rating: 0)\n"
          ]
        }
      ]
    },
    {
      "cell_type": "code",
      "source": [],
      "metadata": {
        "id": "Gmoxe4w1d71A"
      },
      "id": "Gmoxe4w1d71A",
      "execution_count": 30,
      "outputs": []
    },
    {
      "cell_type": "code",
      "source": [],
      "metadata": {
        "id": "ivv3U6J-d739"
      },
      "id": "ivv3U6J-d739",
      "execution_count": 30,
      "outputs": []
    }
  ],
  "metadata": {
    "kernelspec": {
      "display_name": "Python 3 (ipykernel)",
      "language": "python",
      "name": "python3"
    },
    "language_info": {
      "codemirror_mode": {
        "name": "ipython",
        "version": 3
      },
      "file_extension": ".py",
      "mimetype": "text/x-python",
      "name": "python",
      "nbconvert_exporter": "python",
      "pygments_lexer": "ipython3",
      "version": "3.9.12"
    },
    "colab": {
      "provenance": []
    },
    "gpuClass": "standard",
    "accelerator": "GPU"
  },
  "nbformat": 4,
  "nbformat_minor": 5
}